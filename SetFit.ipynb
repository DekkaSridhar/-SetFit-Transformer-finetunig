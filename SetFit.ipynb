{
 "cells": [
  {
   "cell_type": "code",
   "execution_count": 1,
   "metadata": {},
   "outputs": [
    {
     "name": "stdout",
     "output_type": "stream",
     "text": [
      "Collecting setfit\n",
      "  Downloading setfit-1.1.0-py3-none-any.whl.metadata (12 kB)\n",
      "Collecting datasets>=2.15.0 (from setfit)\n",
      "  Downloading datasets-3.0.1-py3-none-any.whl.metadata (20 kB)\n",
      "Collecting sentence-transformers>=3 (from sentence-transformers[train]>=3->setfit)\n",
      "  Downloading sentence_transformers-3.1.1-py3-none-any.whl.metadata (10 kB)\n",
      "Requirement already satisfied: transformers>=4.41.0 in c:\\users\\15011\\appdata\\roaming\\python\\python310\\site-packages (from setfit) (4.44.2)\n",
      "Collecting evaluate>=0.3.0 (from setfit)\n",
      "  Downloading evaluate-0.4.3-py3-none-any.whl.metadata (9.2 kB)\n",
      "Requirement already satisfied: huggingface-hub>=0.23.0 in c:\\users\\15011\\appdata\\roaming\\python\\python310\\site-packages (from setfit) (0.24.6)\n",
      "Requirement already satisfied: scikit-learn in c:\\users\\15011\\appdata\\roaming\\python\\python310\\site-packages (from setfit) (1.5.1)\n",
      "Requirement already satisfied: packaging in c:\\users\\15011\\appdata\\local\\anaconda3\\envs\\test_01\\lib\\site-packages (from setfit) (24.1)\n",
      "Requirement already satisfied: filelock in c:\\users\\15011\\appdata\\roaming\\python\\python310\\site-packages (from datasets>=2.15.0->setfit) (3.15.4)\n",
      "Requirement already satisfied: numpy>=1.17 in c:\\users\\15011\\appdata\\local\\anaconda3\\envs\\test_01\\lib\\site-packages (from datasets>=2.15.0->setfit) (1.26.4)\n",
      "Collecting pyarrow>=15.0.0 (from datasets>=2.15.0->setfit)\n",
      "  Using cached pyarrow-17.0.0-cp310-cp310-win_amd64.whl.metadata (3.4 kB)\n",
      "Collecting dill<0.3.9,>=0.3.0 (from datasets>=2.15.0->setfit)\n",
      "  Using cached dill-0.3.8-py3-none-any.whl.metadata (10 kB)\n",
      "Requirement already satisfied: pandas in c:\\users\\15011\\appdata\\roaming\\python\\python310\\site-packages (from datasets>=2.15.0->setfit) (2.2.2)\n",
      "Requirement already satisfied: requests>=2.32.2 in c:\\users\\15011\\appdata\\roaming\\python\\python310\\site-packages (from datasets>=2.15.0->setfit) (2.32.3)\n",
      "Requirement already satisfied: tqdm>=4.66.3 in c:\\users\\15011\\appdata\\local\\anaconda3\\envs\\test_01\\lib\\site-packages (from datasets>=2.15.0->setfit) (4.66.5)\n",
      "Collecting xxhash (from datasets>=2.15.0->setfit)\n",
      "  Downloading xxhash-3.5.0-cp310-cp310-win_amd64.whl.metadata (13 kB)\n",
      "Collecting multiprocess (from datasets>=2.15.0->setfit)\n",
      "  Using cached multiprocess-0.70.16-py310-none-any.whl.metadata (7.2 kB)\n",
      "Requirement already satisfied: fsspec<=2024.6.1,>=2023.1.0 in c:\\users\\15011\\appdata\\roaming\\python\\python310\\site-packages (from fsspec[http]<=2024.6.1,>=2023.1.0->datasets>=2.15.0->setfit) (2024.6.1)\n",
      "Requirement already satisfied: aiohttp in c:\\users\\15011\\appdata\\local\\anaconda3\\envs\\test_01\\lib\\site-packages (from datasets>=2.15.0->setfit) (3.10.5)\n",
      "Requirement already satisfied: pyyaml>=5.1 in c:\\users\\15011\\appdata\\roaming\\python\\python310\\site-packages (from datasets>=2.15.0->setfit) (6.0.2)\n",
      "Requirement already satisfied: typing-extensions>=3.7.4.3 in c:\\users\\15011\\appdata\\local\\anaconda3\\envs\\test_01\\lib\\site-packages (from huggingface-hub>=0.23.0->setfit) (4.12.2)\n",
      "Collecting torch>=1.11.0 (from sentence-transformers>=3->sentence-transformers[train]>=3->setfit)\n",
      "  Using cached torch-2.4.1-cp310-cp310-win_amd64.whl.metadata (27 kB)\n",
      "Requirement already satisfied: scipy in c:\\users\\15011\\appdata\\roaming\\python\\python310\\site-packages (from sentence-transformers>=3->sentence-transformers[train]>=3->setfit) (1.14.1)\n",
      "Requirement already satisfied: Pillow in c:\\users\\15011\\appdata\\local\\anaconda3\\envs\\test_01\\lib\\site-packages (from sentence-transformers>=3->sentence-transformers[train]>=3->setfit) (10.4.0)\n",
      "Collecting accelerate>=0.20.3 (from sentence-transformers[train]>=3->setfit)\n",
      "  Downloading accelerate-0.34.2-py3-none-any.whl.metadata (19 kB)\n",
      "Requirement already satisfied: regex!=2019.12.17 in c:\\users\\15011\\appdata\\roaming\\python\\python310\\site-packages (from transformers>=4.41.0->setfit) (2024.7.24)\n",
      "Requirement already satisfied: safetensors>=0.4.1 in c:\\users\\15011\\appdata\\roaming\\python\\python310\\site-packages (from transformers>=4.41.0->setfit) (0.4.4)\n",
      "Requirement already satisfied: tokenizers<0.20,>=0.19 in c:\\users\\15011\\appdata\\roaming\\python\\python310\\site-packages (from transformers>=4.41.0->setfit) (0.19.1)\n",
      "Requirement already satisfied: joblib>=1.2.0 in c:\\users\\15011\\appdata\\roaming\\python\\python310\\site-packages (from scikit-learn->setfit) (1.4.2)\n",
      "Requirement already satisfied: threadpoolctl>=3.1.0 in c:\\users\\15011\\appdata\\local\\anaconda3\\envs\\test_01\\lib\\site-packages (from scikit-learn->setfit) (3.5.0)\n",
      "Requirement already satisfied: psutil in c:\\users\\15011\\appdata\\local\\anaconda3\\envs\\test_01\\lib\\site-packages (from accelerate>=0.20.3->sentence-transformers[train]>=3->setfit) (6.0.0)\n",
      "Requirement already satisfied: aiohappyeyeballs>=2.3.0 in c:\\users\\15011\\appdata\\local\\anaconda3\\envs\\test_01\\lib\\site-packages (from aiohttp->datasets>=2.15.0->setfit) (2.4.0)\n",
      "Requirement already satisfied: aiosignal>=1.1.2 in c:\\users\\15011\\appdata\\local\\anaconda3\\envs\\test_01\\lib\\site-packages (from aiohttp->datasets>=2.15.0->setfit) (1.3.1)\n",
      "Requirement already satisfied: attrs>=17.3.0 in c:\\users\\15011\\appdata\\local\\anaconda3\\envs\\test_01\\lib\\site-packages (from aiohttp->datasets>=2.15.0->setfit) (24.2.0)\n",
      "Requirement already satisfied: frozenlist>=1.1.1 in c:\\users\\15011\\appdata\\local\\anaconda3\\envs\\test_01\\lib\\site-packages (from aiohttp->datasets>=2.15.0->setfit) (1.4.1)\n",
      "Requirement already satisfied: multidict<7.0,>=4.5 in c:\\users\\15011\\appdata\\local\\anaconda3\\envs\\test_01\\lib\\site-packages (from aiohttp->datasets>=2.15.0->setfit) (6.0.5)\n",
      "Requirement already satisfied: yarl<2.0,>=1.0 in c:\\users\\15011\\appdata\\local\\anaconda3\\envs\\test_01\\lib\\site-packages (from aiohttp->datasets>=2.15.0->setfit) (1.9.7)\n",
      "Requirement already satisfied: async-timeout<5.0,>=4.0 in c:\\users\\15011\\appdata\\local\\anaconda3\\envs\\test_01\\lib\\site-packages (from aiohttp->datasets>=2.15.0->setfit) (4.0.3)\n",
      "Requirement already satisfied: charset-normalizer<4,>=2 in c:\\users\\15011\\appdata\\roaming\\python\\python310\\site-packages (from requests>=2.32.2->datasets>=2.15.0->setfit) (3.3.2)\n",
      "Requirement already satisfied: idna<4,>=2.5 in c:\\users\\15011\\appdata\\roaming\\python\\python310\\site-packages (from requests>=2.32.2->datasets>=2.15.0->setfit) (3.8)\n",
      "Requirement already satisfied: urllib3<3,>=1.21.1 in c:\\users\\15011\\appdata\\local\\anaconda3\\envs\\test_01\\lib\\site-packages (from requests>=2.32.2->datasets>=2.15.0->setfit) (2.2.2)\n",
      "Requirement already satisfied: certifi>=2017.4.17 in c:\\users\\15011\\appdata\\local\\anaconda3\\envs\\test_01\\lib\\site-packages (from requests>=2.32.2->datasets>=2.15.0->setfit) (2024.7.4)\n",
      "Collecting sympy (from torch>=1.11.0->sentence-transformers>=3->sentence-transformers[train]>=3->setfit)\n",
      "  Downloading sympy-1.13.3-py3-none-any.whl.metadata (12 kB)\n",
      "Collecting networkx (from torch>=1.11.0->sentence-transformers>=3->sentence-transformers[train]>=3->setfit)\n",
      "  Using cached networkx-3.3-py3-none-any.whl.metadata (5.1 kB)\n",
      "Requirement already satisfied: jinja2 in c:\\users\\15011\\appdata\\roaming\\python\\python310\\site-packages (from torch>=1.11.0->sentence-transformers>=3->sentence-transformers[train]>=3->setfit) (3.1.4)\n",
      "Requirement already satisfied: colorama in c:\\users\\15011\\appdata\\local\\anaconda3\\envs\\test_01\\lib\\site-packages (from tqdm>=4.66.3->datasets>=2.15.0->setfit) (0.4.6)\n",
      "Requirement already satisfied: python-dateutil>=2.8.2 in c:\\users\\15011\\appdata\\local\\anaconda3\\envs\\test_01\\lib\\site-packages (from pandas->datasets>=2.15.0->setfit) (2.9.0)\n",
      "Requirement already satisfied: pytz>=2020.1 in c:\\users\\15011\\appdata\\local\\anaconda3\\envs\\test_01\\lib\\site-packages (from pandas->datasets>=2.15.0->setfit) (2024.1)\n",
      "Requirement already satisfied: tzdata>=2022.7 in c:\\users\\15011\\appdata\\local\\anaconda3\\envs\\test_01\\lib\\site-packages (from pandas->datasets>=2.15.0->setfit) (2024.1)\n",
      "Requirement already satisfied: six>=1.5 in c:\\users\\15011\\appdata\\local\\anaconda3\\envs\\test_01\\lib\\site-packages (from python-dateutil>=2.8.2->pandas->datasets>=2.15.0->setfit) (1.16.0)\n",
      "Requirement already satisfied: MarkupSafe>=2.0 in c:\\users\\15011\\appdata\\roaming\\python\\python310\\site-packages (from jinja2->torch>=1.11.0->sentence-transformers>=3->sentence-transformers[train]>=3->setfit) (2.1.5)\n",
      "Collecting mpmath<1.4,>=1.1.0 (from sympy->torch>=1.11.0->sentence-transformers>=3->sentence-transformers[train]>=3->setfit)\n",
      "  Using cached mpmath-1.3.0-py3-none-any.whl.metadata (8.6 kB)\n",
      "Downloading setfit-1.1.0-py3-none-any.whl (75 kB)\n",
      "   ---------------------------------------- 0.0/75.2 kB ? eta -:--:--\n",
      "   -------------------------------- ------- 61.4/75.2 kB 1.7 MB/s eta 0:00:01\n",
      "   ---------------------------------------- 75.2/75.2 kB 1.0 MB/s eta 0:00:00\n",
      "Downloading datasets-3.0.1-py3-none-any.whl (471 kB)\n",
      "   ---------------------------------------- 0.0/471.6 kB ? eta -:--:--\n",
      "   ------------ --------------------------- 143.4/471.6 kB 4.3 MB/s eta 0:00:01\n",
      "   ---------------------------------- ----- 409.6/471.6 kB 5.1 MB/s eta 0:00:01\n",
      "   ---------------------------------------- 471.6/471.6 kB 4.2 MB/s eta 0:00:00\n",
      "Downloading evaluate-0.4.3-py3-none-any.whl (84 kB)\n",
      "   ---------------------------------------- 0.0/84.0 kB ? eta -:--:--\n",
      "   ---------------------------------------- 84.0/84.0 kB 4.9 MB/s eta 0:00:00\n",
      "Downloading sentence_transformers-3.1.1-py3-none-any.whl (245 kB)\n",
      "   ---------------------------------------- 0.0/245.3 kB ? eta -:--:--\n",
      "   ---------------------------------------- 245.3/245.3 kB 7.6 MB/s eta 0:00:00\n",
      "Downloading accelerate-0.34.2-py3-none-any.whl (324 kB)\n",
      "   ---------------------------------------- 0.0/324.4 kB ? eta -:--:--\n",
      "   --------------------------------------- 324.4/324.4 kB 10.1 MB/s eta 0:00:00\n",
      "Using cached dill-0.3.8-py3-none-any.whl (116 kB)\n",
      "Using cached pyarrow-17.0.0-cp310-cp310-win_amd64.whl (25.1 MB)\n",
      "Using cached torch-2.4.1-cp310-cp310-win_amd64.whl (199.4 MB)\n",
      "Using cached multiprocess-0.70.16-py310-none-any.whl (134 kB)\n",
      "Downloading xxhash-3.5.0-cp310-cp310-win_amd64.whl (30 kB)\n",
      "Using cached networkx-3.3-py3-none-any.whl (1.7 MB)\n",
      "Downloading sympy-1.13.3-py3-none-any.whl (6.2 MB)\n",
      "   ---------------------------------------- 0.0/6.2 MB ? eta -:--:--\n",
      "   --- ------------------------------------ 0.5/6.2 MB 11.1 MB/s eta 0:00:01\n",
      "   ----- ---------------------------------- 0.9/6.2 MB 9.4 MB/s eta 0:00:01\n",
      "   ---------- ----------------------------- 1.7/6.2 MB 13.5 MB/s eta 0:00:01\n",
      "   ---------------- ----------------------- 2.5/6.2 MB 13.3 MB/s eta 0:00:01\n",
      "   -------------------- ------------------- 3.1/6.2 MB 14.3 MB/s eta 0:00:01\n",
      "   --------------------- ------------------ 3.3/6.2 MB 13.1 MB/s eta 0:00:01\n",
      "   --------------------- ------------------ 3.3/6.2 MB 13.1 MB/s eta 0:00:01\n",
      "   ------------------------ --------------- 3.8/6.2 MB 10.5 MB/s eta 0:00:01\n",
      "   ------------------------------- -------- 4.8/6.2 MB 11.9 MB/s eta 0:00:01\n",
      "   ----------------------------------- ---- 5.4/6.2 MB 11.9 MB/s eta 0:00:01\n",
      "   ---------------------------------------  6.2/6.2 MB 12.3 MB/s eta 0:00:01\n",
      "   ---------------------------------------  6.2/6.2 MB 12.3 MB/s eta 0:00:01\n",
      "   ---------------------------------------  6.2/6.2 MB 12.3 MB/s eta 0:00:01\n",
      "   ---------------------------------------  6.2/6.2 MB 12.3 MB/s eta 0:00:01\n",
      "   ---------------------------------------  6.2/6.2 MB 12.3 MB/s eta 0:00:01\n",
      "   ---------------------------------------- 6.2/6.2 MB 9.0 MB/s eta 0:00:00\n",
      "Using cached mpmath-1.3.0-py3-none-any.whl (536 kB)\n",
      "Installing collected packages: mpmath, xxhash, sympy, pyarrow, networkx, dill, torch, multiprocess, accelerate, datasets, sentence-transformers, evaluate, setfit\n",
      "Successfully installed accelerate-0.34.2 datasets-3.0.1 dill-0.3.8 evaluate-0.4.3 mpmath-1.3.0 multiprocess-0.70.16 networkx-3.3 pyarrow-17.0.0 sentence-transformers-3.1.1 setfit-1.1.0 sympy-1.13.3 torch-2.4.1 xxhash-3.5.0\n",
      "Note: you may need to restart the kernel to use updated packages.\n"
     ]
    }
   ],
   "source": [
    "pip install setfit"
   ]
  },
  {
   "cell_type": "code",
   "execution_count": 2,
   "metadata": {},
   "outputs": [
    {
     "name": "stdout",
     "output_type": "stream",
     "text": [
      "Looking in indexes: https://download.pytorch.org/whl/cu118\n",
      "Requirement already satisfied: torch in c:\\users\\15011\\appdata\\local\\anaconda3\\envs\\test_01\\lib\\site-packages (2.4.1)\n",
      "Requirement already satisfied: filelock in c:\\users\\15011\\appdata\\roaming\\python\\python310\\site-packages (from torch) (3.15.4)\n",
      "Requirement already satisfied: typing-extensions>=4.8.0 in c:\\users\\15011\\appdata\\local\\anaconda3\\envs\\test_01\\lib\\site-packages (from torch) (4.12.2)\n",
      "Requirement already satisfied: sympy in c:\\users\\15011\\appdata\\local\\anaconda3\\envs\\test_01\\lib\\site-packages (from torch) (1.13.3)\n",
      "Requirement already satisfied: networkx in c:\\users\\15011\\appdata\\local\\anaconda3\\envs\\test_01\\lib\\site-packages (from torch) (3.3)\n",
      "Requirement already satisfied: jinja2 in c:\\users\\15011\\appdata\\roaming\\python\\python310\\site-packages (from torch) (3.1.4)\n",
      "Requirement already satisfied: fsspec in c:\\users\\15011\\appdata\\roaming\\python\\python310\\site-packages (from torch) (2024.6.1)\n",
      "Requirement already satisfied: MarkupSafe>=2.0 in c:\\users\\15011\\appdata\\roaming\\python\\python310\\site-packages (from jinja2->torch) (2.1.5)\n",
      "Requirement already satisfied: mpmath<1.4,>=1.1.0 in c:\\users\\15011\\appdata\\local\\anaconda3\\envs\\test_01\\lib\\site-packages (from sympy->torch) (1.3.0)\n",
      "Note: you may need to restart the kernel to use updated packages.\n"
     ]
    }
   ],
   "source": [
    "pip install torch --index-url https://download.pytorch.org/whl/cu118"
   ]
  },
  {
   "cell_type": "code",
   "execution_count": 3,
   "metadata": {},
   "outputs": [
    {
     "name": "stdout",
     "output_type": "stream",
     "text": [
      "Requirement already satisfied: datasets in c:\\users\\15011\\appdata\\local\\anaconda3\\envs\\test_01\\lib\\site-packages (3.0.1)\n",
      "Requirement already satisfied: filelock in c:\\users\\15011\\appdata\\roaming\\python\\python310\\site-packages (from datasets) (3.15.4)\n",
      "Requirement already satisfied: numpy>=1.17 in c:\\users\\15011\\appdata\\local\\anaconda3\\envs\\test_01\\lib\\site-packages (from datasets) (1.26.4)\n",
      "Requirement already satisfied: pyarrow>=15.0.0 in c:\\users\\15011\\appdata\\local\\anaconda3\\envs\\test_01\\lib\\site-packages (from datasets) (17.0.0)\n",
      "Requirement already satisfied: dill<0.3.9,>=0.3.0 in c:\\users\\15011\\appdata\\local\\anaconda3\\envs\\test_01\\lib\\site-packages (from datasets) (0.3.8)\n",
      "Requirement already satisfied: pandas in c:\\users\\15011\\appdata\\roaming\\python\\python310\\site-packages (from datasets) (2.2.2)\n",
      "Requirement already satisfied: requests>=2.32.2 in c:\\users\\15011\\appdata\\roaming\\python\\python310\\site-packages (from datasets) (2.32.3)\n",
      "Requirement already satisfied: tqdm>=4.66.3 in c:\\users\\15011\\appdata\\local\\anaconda3\\envs\\test_01\\lib\\site-packages (from datasets) (4.66.5)\n",
      "Requirement already satisfied: xxhash in c:\\users\\15011\\appdata\\local\\anaconda3\\envs\\test_01\\lib\\site-packages (from datasets) (3.5.0)\n",
      "Requirement already satisfied: multiprocess in c:\\users\\15011\\appdata\\local\\anaconda3\\envs\\test_01\\lib\\site-packages (from datasets) (0.70.16)\n",
      "Requirement already satisfied: fsspec<=2024.6.1,>=2023.1.0 in c:\\users\\15011\\appdata\\roaming\\python\\python310\\site-packages (from fsspec[http]<=2024.6.1,>=2023.1.0->datasets) (2024.6.1)\n",
      "Requirement already satisfied: aiohttp in c:\\users\\15011\\appdata\\local\\anaconda3\\envs\\test_01\\lib\\site-packages (from datasets) (3.10.5)\n",
      "Requirement already satisfied: huggingface-hub>=0.22.0 in c:\\users\\15011\\appdata\\roaming\\python\\python310\\site-packages (from datasets) (0.24.6)\n",
      "Requirement already satisfied: packaging in c:\\users\\15011\\appdata\\local\\anaconda3\\envs\\test_01\\lib\\site-packages (from datasets) (24.1)\n",
      "Requirement already satisfied: pyyaml>=5.1 in c:\\users\\15011\\appdata\\roaming\\python\\python310\\site-packages (from datasets) (6.0.2)\n",
      "Requirement already satisfied: aiohappyeyeballs>=2.3.0 in c:\\users\\15011\\appdata\\local\\anaconda3\\envs\\test_01\\lib\\site-packages (from aiohttp->datasets) (2.4.0)\n",
      "Requirement already satisfied: aiosignal>=1.1.2 in c:\\users\\15011\\appdata\\local\\anaconda3\\envs\\test_01\\lib\\site-packages (from aiohttp->datasets) (1.3.1)\n",
      "Requirement already satisfied: attrs>=17.3.0 in c:\\users\\15011\\appdata\\local\\anaconda3\\envs\\test_01\\lib\\site-packages (from aiohttp->datasets) (24.2.0)\n",
      "Requirement already satisfied: frozenlist>=1.1.1 in c:\\users\\15011\\appdata\\local\\anaconda3\\envs\\test_01\\lib\\site-packages (from aiohttp->datasets) (1.4.1)\n",
      "Requirement already satisfied: multidict<7.0,>=4.5 in c:\\users\\15011\\appdata\\local\\anaconda3\\envs\\test_01\\lib\\site-packages (from aiohttp->datasets) (6.0.5)\n",
      "Requirement already satisfied: yarl<2.0,>=1.0 in c:\\users\\15011\\appdata\\local\\anaconda3\\envs\\test_01\\lib\\site-packages (from aiohttp->datasets) (1.9.7)\n",
      "Requirement already satisfied: async-timeout<5.0,>=4.0 in c:\\users\\15011\\appdata\\local\\anaconda3\\envs\\test_01\\lib\\site-packages (from aiohttp->datasets) (4.0.3)\n",
      "Requirement already satisfied: typing-extensions>=3.7.4.3 in c:\\users\\15011\\appdata\\local\\anaconda3\\envs\\test_01\\lib\\site-packages (from huggingface-hub>=0.22.0->datasets) (4.12.2)\n",
      "Requirement already satisfied: charset-normalizer<4,>=2 in c:\\users\\15011\\appdata\\roaming\\python\\python310\\site-packages (from requests>=2.32.2->datasets) (3.3.2)\n",
      "Requirement already satisfied: idna<4,>=2.5 in c:\\users\\15011\\appdata\\roaming\\python\\python310\\site-packages (from requests>=2.32.2->datasets) (3.8)\n",
      "Requirement already satisfied: urllib3<3,>=1.21.1 in c:\\users\\15011\\appdata\\local\\anaconda3\\envs\\test_01\\lib\\site-packages (from requests>=2.32.2->datasets) (2.2.2)\n",
      "Requirement already satisfied: certifi>=2017.4.17 in c:\\users\\15011\\appdata\\local\\anaconda3\\envs\\test_01\\lib\\site-packages (from requests>=2.32.2->datasets) (2024.7.4)\n",
      "Requirement already satisfied: colorama in c:\\users\\15011\\appdata\\local\\anaconda3\\envs\\test_01\\lib\\site-packages (from tqdm>=4.66.3->datasets) (0.4.6)\n",
      "Requirement already satisfied: python-dateutil>=2.8.2 in c:\\users\\15011\\appdata\\local\\anaconda3\\envs\\test_01\\lib\\site-packages (from pandas->datasets) (2.9.0)\n",
      "Requirement already satisfied: pytz>=2020.1 in c:\\users\\15011\\appdata\\local\\anaconda3\\envs\\test_01\\lib\\site-packages (from pandas->datasets) (2024.1)\n",
      "Requirement already satisfied: tzdata>=2022.7 in c:\\users\\15011\\appdata\\local\\anaconda3\\envs\\test_01\\lib\\site-packages (from pandas->datasets) (2024.1)\n",
      "Requirement already satisfied: six>=1.5 in c:\\users\\15011\\appdata\\local\\anaconda3\\envs\\test_01\\lib\\site-packages (from python-dateutil>=2.8.2->pandas->datasets) (1.16.0)\n",
      "Note: you may need to restart the kernel to use updated packages.\n"
     ]
    }
   ],
   "source": [
    "pip install datasets"
   ]
  },
  {
   "cell_type": "code",
   "execution_count": 7,
   "metadata": {},
   "outputs": [
    {
     "name": "stderr",
     "output_type": "stream",
     "text": [
      "Map: 100%|██████████| 4376/4376 [00:00<00:00, 15835.66 examples/s]\n",
      "Map: 100%|██████████| 1095/1095 [00:00<00:00, 13720.10 examples/s]\n",
      "model_head.pkl not found on HuggingFace Hub, initialising classification head with random weights. You should TRAIN this model on a downstream task to use it for predictions and inference.\n",
      "Applying column mapping to the training dataset\n",
      "Applying column mapping to the evaluation dataset\n",
      "Map: 100%|██████████| 4376/4376 [00:00<00:00, 26205.45 examples/s]\n",
      "***** Running training *****\n",
      "  Num unique pairs = 1600\n",
      "  Batch size = 16\n",
      "  Num epochs = 1\n",
      "  1%|          | 1/100 [00:42<1:10:20, 42.63s/it]"
     ]
    },
    {
     "name": "stdout",
     "output_type": "stream",
     "text": [
      "{'embedding_loss': 0.2515, 'grad_norm': 1.2545405626296997, 'learning_rate': 2.0000000000000003e-06, 'epoch': 0.01}\n"
     ]
    },
    {
     "name": "stderr",
     "output_type": "stream",
     "text": [
      " 10%|█         | 10/100 [02:33<16:38, 11.09s/it] "
     ]
    },
    {
     "name": "stdout",
     "output_type": "stream",
     "text": [
      "{'embedding_loss': 0.2371, 'grad_norm': 0.9252402782440186, 'learning_rate': 2e-05, 'epoch': 0.1}\n"
     ]
    },
    {
     "name": "stderr",
     "output_type": "stream",
     "text": [
      "                                                \n",
      " 10%|█         | 10/100 [06:42<16:38, 11.09s/it] "
     ]
    },
    {
     "name": "stdout",
     "output_type": "stream",
     "text": [
      "{'eval_embedding_loss': 0.2259172648191452, 'eval_embedding_runtime': 248.8732, 'eval_embedding_samples_per_second': 6.429, 'eval_embedding_steps_per_second': 0.402, 'epoch': 0.1}\n"
     ]
    },
    {
     "name": "stderr",
     "output_type": "stream",
     "text": [
      " 20%|██        | 20/100 [11:28<22:51, 17.14s/it]   "
     ]
    },
    {
     "name": "stdout",
     "output_type": "stream",
     "text": [
      "{'embedding_loss': 0.2355, 'grad_norm': 0.9418203234672546, 'learning_rate': 1.7777777777777777e-05, 'epoch': 0.2}\n"
     ]
    },
    {
     "name": "stderr",
     "output_type": "stream",
     "text": [
      "                                                \n",
      " 20%|██        | 20/100 [15:50<22:51, 17.14s/it] "
     ]
    },
    {
     "name": "stdout",
     "output_type": "stream",
     "text": [
      "{'eval_embedding_loss': 0.2125936895608902, 'eval_embedding_runtime': 261.2589, 'eval_embedding_samples_per_second': 6.124, 'eval_embedding_steps_per_second': 0.383, 'epoch': 0.2}\n"
     ]
    },
    {
     "name": "stderr",
     "output_type": "stream",
     "text": [
      " 30%|███       | 30/100 [18:48<24:14, 20.78s/it]  "
     ]
    },
    {
     "name": "stdout",
     "output_type": "stream",
     "text": [
      "{'embedding_loss': 0.2074, 'grad_norm': 1.1995055675506592, 'learning_rate': 1.555555555555556e-05, 'epoch': 0.3}\n"
     ]
    },
    {
     "name": "stderr",
     "output_type": "stream",
     "text": [
      "                                                \n",
      " 30%|███       | 30/100 [23:09<24:14, 20.78s/it] "
     ]
    },
    {
     "name": "stdout",
     "output_type": "stream",
     "text": [
      "{'eval_embedding_loss': 0.19773219525814056, 'eval_embedding_runtime': 261.4611, 'eval_embedding_samples_per_second': 6.119, 'eval_embedding_steps_per_second': 0.382, 'epoch': 0.3}\n"
     ]
    },
    {
     "name": "stderr",
     "output_type": "stream",
     "text": [
      " 40%|████      | 40/100 [26:09<19:47, 19.80s/it]  "
     ]
    },
    {
     "name": "stdout",
     "output_type": "stream",
     "text": [
      "{'embedding_loss': 0.1812, 'grad_norm': 0.881482720375061, 'learning_rate': 1.3333333333333333e-05, 'epoch': 0.4}\n"
     ]
    },
    {
     "name": "stderr",
     "output_type": "stream",
     "text": [
      "                                                \n",
      " 40%|████      | 40/100 [30:34<19:47, 19.80s/it] "
     ]
    },
    {
     "name": "stdout",
     "output_type": "stream",
     "text": [
      "{'eval_embedding_loss': 0.17767152190208435, 'eval_embedding_runtime': 265.4205, 'eval_embedding_samples_per_second': 6.028, 'eval_embedding_steps_per_second': 0.377, 'epoch': 0.4}\n"
     ]
    },
    {
     "name": "stderr",
     "output_type": "stream",
     "text": [
      " 50%|█████     | 50/100 [31:52<08:44, 10.50s/it]  "
     ]
    },
    {
     "name": "stdout",
     "output_type": "stream",
     "text": [
      "{'embedding_loss': 0.1783, 'grad_norm': 1.2074666023254395, 'learning_rate': 1.1111111111111113e-05, 'epoch': 0.5}\n"
     ]
    },
    {
     "name": "stderr",
     "output_type": "stream",
     "text": [
      "                                                \n",
      " 50%|█████     | 50/100 [37:08<08:44, 10.50s/it] "
     ]
    },
    {
     "name": "stdout",
     "output_type": "stream",
     "text": [
      "{'eval_embedding_loss': 0.15698091685771942, 'eval_embedding_runtime': 316.088, 'eval_embedding_samples_per_second': 5.062, 'eval_embedding_steps_per_second': 0.316, 'epoch': 0.5}\n"
     ]
    },
    {
     "name": "stderr",
     "output_type": "stream",
     "text": [
      " 60%|██████    | 60/100 [38:39<08:49, 13.23s/it]   "
     ]
    },
    {
     "name": "stdout",
     "output_type": "stream",
     "text": [
      "{'embedding_loss': 0.1693, 'grad_norm': 1.4127482175827026, 'learning_rate': 8.888888888888888e-06, 'epoch': 0.6}\n"
     ]
    },
    {
     "name": "stderr",
     "output_type": "stream",
     "text": [
      "                                                \n",
      " 60%|██████    | 60/100 [43:57<08:49, 13.23s/it] "
     ]
    },
    {
     "name": "stdout",
     "output_type": "stream",
     "text": [
      "{'eval_embedding_loss': 0.14287929236888885, 'eval_embedding_runtime': 318.2682, 'eval_embedding_samples_per_second': 5.027, 'eval_embedding_steps_per_second': 0.314, 'epoch': 0.6}\n"
     ]
    },
    {
     "name": "stderr",
     "output_type": "stream",
     "text": [
      " 70%|███████   | 70/100 [45:43<07:18, 14.61s/it]   "
     ]
    },
    {
     "name": "stdout",
     "output_type": "stream",
     "text": [
      "{'embedding_loss': 0.1501, 'grad_norm': 1.493636965751648, 'learning_rate': 6.666666666666667e-06, 'epoch': 0.7}\n"
     ]
    },
    {
     "name": "stderr",
     "output_type": "stream",
     "text": [
      "                                                \n",
      " 70%|███████   | 70/100 [50:48<07:18, 14.61s/it] "
     ]
    },
    {
     "name": "stdout",
     "output_type": "stream",
     "text": [
      "{'eval_embedding_loss': 0.1363300383090973, 'eval_embedding_runtime': 304.1493, 'eval_embedding_samples_per_second': 5.261, 'eval_embedding_steps_per_second': 0.329, 'epoch': 0.7}\n"
     ]
    },
    {
     "name": "stderr",
     "output_type": "stream",
     "text": [
      " 80%|████████  | 80/100 [52:34<04:55, 14.77s/it] "
     ]
    },
    {
     "name": "stdout",
     "output_type": "stream",
     "text": [
      "{'embedding_loss': 0.1417, 'grad_norm': 1.6809134483337402, 'learning_rate': 4.444444444444444e-06, 'epoch': 0.8}\n"
     ]
    },
    {
     "name": "stderr",
     "output_type": "stream",
     "text": [
      "                                                \n",
      " 80%|████████  | 80/100 [57:08<04:55, 14.77s/it] "
     ]
    },
    {
     "name": "stdout",
     "output_type": "stream",
     "text": [
      "{'eval_embedding_loss': 0.1311153620481491, 'eval_embedding_runtime': 274.5751, 'eval_embedding_samples_per_second': 5.827, 'eval_embedding_steps_per_second': 0.364, 'epoch': 0.8}\n"
     ]
    },
    {
     "name": "stderr",
     "output_type": "stream",
     "text": [
      " 90%|█████████ | 90/100 [58:29<01:43, 10.38s/it]"
     ]
    },
    {
     "name": "stdout",
     "output_type": "stream",
     "text": [
      "{'embedding_loss': 0.131, 'grad_norm': 1.5209349393844604, 'learning_rate': 2.222222222222222e-06, 'epoch': 0.9}\n"
     ]
    },
    {
     "name": "stderr",
     "output_type": "stream",
     "text": [
      "                                                \n",
      " 90%|█████████ | 90/100 [1:02:59<01:43, 10.38s/it]"
     ]
    },
    {
     "name": "stdout",
     "output_type": "stream",
     "text": [
      "{'eval_embedding_loss': 0.12777085602283478, 'eval_embedding_runtime': 269.9942, 'eval_embedding_samples_per_second': 5.926, 'eval_embedding_steps_per_second': 0.37, 'epoch': 0.9}\n"
     ]
    },
    {
     "name": "stderr",
     "output_type": "stream",
     "text": [
      "100%|██████████| 100/100 [1:04:13<00:00, 11.01s/it]"
     ]
    },
    {
     "name": "stdout",
     "output_type": "stream",
     "text": [
      "{'embedding_loss': 0.1411, 'grad_norm': 1.5463285446166992, 'learning_rate': 0.0, 'epoch': 1.0}\n"
     ]
    },
    {
     "name": "stderr",
     "output_type": "stream",
     "text": [
      "                                                   \n",
      "100%|██████████| 100/100 [1:08:17<00:00, 11.01s/it]"
     ]
    },
    {
     "name": "stdout",
     "output_type": "stream",
     "text": [
      "{'eval_embedding_loss': 0.12670928239822388, 'eval_embedding_runtime': 244.1407, 'eval_embedding_samples_per_second': 6.554, 'eval_embedding_steps_per_second': 0.41, 'epoch': 1.0}\n"
     ]
    },
    {
     "name": "stderr",
     "output_type": "stream",
     "text": [
      "100%|██████████| 100/100 [1:08:19<00:00, 40.99s/it]\n"
     ]
    },
    {
     "name": "stdout",
     "output_type": "stream",
     "text": [
      "{'train_runtime': 4099.2649, 'train_samples_per_second': 0.39, 'train_steps_per_second': 0.024, 'train_loss': 0.1774081063270569, 'epoch': 1.0}\n"
     ]
    },
    {
     "name": "stderr",
     "output_type": "stream",
     "text": [
      "Applying column mapping to the evaluation dataset\n",
      "***** Running evaluation *****\n",
      "Downloading builder script: 100%|██████████| 4.20k/4.20k [00:00<00:00, 262kB/s]\n"
     ]
    },
    {
     "name": "stdout",
     "output_type": "stream",
     "text": [
      "Evaluation Metrics: {'accuracy': 0.8730593607305936}\n",
      "Predictions: ['POSITIVE', 'NEGATIVE', 'NEGATIVE', 'MIXED', 'NEGATIVE', 'NEGATIVE', 'NEGATIVE', 'POSITIVE', 'POSITIVE']\n"
     ]
    }
   ],
   "source": [
    "import pandas as pd\n",
    "from datasets import Dataset\n",
    "from setfit import SetFitModel, Trainer, TrainingArguments\n",
    "import torch\n",
    "\n",
    "# Load your own dataset from CSV file with specific encoding\n",
    "df = pd.read_csv(r\"C:\\Users\\15011\\Documents\\Projects\\SetFit\\Dataset.csv\", encoding='ISO-8859-1')\n",
    "\n",
    "# Convert the DataFrame into a Hugging Face Dataset\n",
    "dataset = Dataset.from_pandas(df)\n",
    "\n",
    "# Split dataset into train and validation sets (80-20 split as an example)\n",
    "train_test_split = dataset.train_test_split(test_size=0.2)\n",
    "train_dataset = train_test_split[\"train\"]\n",
    "val_dataset = train_test_split[\"test\"]\n",
    "\n",
    "# Define label mappings for the custom labels\n",
    "label_mapping = {\n",
    "    \"NEGATIVE\": 0,\n",
    "    \"POSITIVE\": 1,\n",
    "    \"NEUTRAL\": 2,\n",
    "    \"MIXED\": 3\n",
    "}\n",
    "\n",
    "# Map labels from text to integer indices\n",
    "train_dataset = train_dataset.map(lambda x: {\"label\": label_mapping[x[\"label\"]]})\n",
    "val_dataset = val_dataset.map(lambda x: {\"label\": label_mapping[x[\"label\"]]})\n",
    "\n",
    "# Load a SetFit model from Hugging Face Hub, updating the label list\n",
    "model = SetFitModel.from_pretrained(\n",
    "    \"BAAI/bge-base-en-v1.5\",\n",
    "    labels=[\"NEGATIVE\", \"POSITIVE\", \"NEUTRAL\", \"MIXED\"]\n",
    ")\n",
    "\n",
    "# Train the model\n",
    "args = TrainingArguments(\n",
    "    batch_size=16,\n",
    "    max_steps=100,\n",
    "    logging_steps=10,\n",
    "    eval_strategy=\"steps\", eval_steps=10, eval_max_steps=100,\n",
    "    save_strategy=\"steps\", save_steps=50,\n",
    "    metric_for_best_model=\"eval_embedding_loss\"\n",
    ")\n",
    "\n",
    "# Trainer class with correct column mapping\n",
    "trainer = Trainer(\n",
    "    model=model, \n",
    "    args=args,\n",
    "    train_dataset=train_dataset, \n",
    "    eval_dataset=val_dataset,\n",
    "    metric=\"accuracy\",\n",
    "    column_mapping={\"sentence\": \"text\", \"label\": \"label\"}  # Mapping sentence to text\n",
    ")\n",
    "\n",
    "# Train and evaluate the model\n",
    "trainer.train()\n",
    "metrics = trainer.evaluate(val_dataset)\n",
    "print(\"Evaluation Metrics:\", metrics)\n",
    "\n",
    "# Save the trained model locally\n",
    "model_save_path = \"./saved_setfit_model\"\n",
    "model.save_pretrained(model_save_path)\n",
    "\n",
    "# Load the saved model for further use\n",
    "loaded_model = SetFitModel.from_pretrained(model_save_path)\n",
    "\n",
    "# Predict with the loaded model\n",
    "sample_sentences = [\n",
    "    \"This was a pretty good movie!\", \n",
    "    \"Hated this new movie 🤮\", \n",
    "    \"The service was neither great nor terrible.\",\n",
    "    \"Loving it and kinda hate myself I didn't buy this day\",\n",
    "    \"Should make more content, mane, more light, more content\",\n",
    "    \"It is sold out and quite old\",\n",
    "    \"I'm really excited to buy this, it's such a sick design\",\n",
    "    \"This line is really cool and it's a substitute from GI Joe\",\n",
    "    \"I'm really excited\"\n",
    "]\n",
    "\n",
    "# Predictions from loaded model\n",
    "preds = loaded_model.predict(sample_sentences)\n",
    "print(\"Predictions:\", preds)"
   ]
  },
  {
   "cell_type": "code",
   "execution_count": 8,
   "metadata": {},
   "outputs": [
    {
     "name": "stdout",
     "output_type": "stream",
     "text": [
      "Confusion Matrix:\n",
      " [[ 60  32   2  15]\n",
      " [ 10 363  11   4]\n",
      " [  2  25  42  17]\n",
      " [  6  11   4 491]]\n"
     ]
    },
    {
     "data": {
      "image/png": "[encoded data removed]",
      "text/plain": [
       "<Figure size 800x600 with 2 Axes>"
      ]
     },
     "metadata": {},
     "output_type": "display_data"
    },
    {
     "name": "stdout",
     "output_type": "stream",
     "text": [
      "Classification Report:\n",
      "               precision    recall  f1-score   support\n",
      "\n",
      "    NEGATIVE       0.77      0.55      0.64       109\n",
      "    POSITIVE       0.84      0.94      0.89       388\n",
      "     NEUTRAL       0.71      0.49      0.58        86\n",
      "       MIXED       0.93      0.96      0.95       512\n",
      "\n",
      "    accuracy                           0.87      1095\n",
      "   macro avg       0.81      0.73      0.76      1095\n",
      "weighted avg       0.87      0.87      0.87      1095\n",
      "\n"
     ]
    }
   ],
   "source": [
    "from sklearn.metrics import confusion_matrix, classification_report\n",
    "import numpy as np\n",
    "import seaborn as sns\n",
    "import matplotlib.pyplot as plt\n",
    "\n",
    "# Step 12: Load the saved model for further use\n",
    "loaded_model = SetFitModel.from_pretrained(model_save_path)\n",
    "\n",
    "# Step 13: Predict on the validation set\n",
    "val_sentences = val_dataset[\"sentence\"]\n",
    "true_labels = val_dataset[\"label\"]\n",
    "\n",
    "# Convert true labels from integers to their original labels for evaluation\n",
    "true_labels_str = [list(label_mapping.keys())[list(label_mapping.values()).index(label)] for label in true_labels]\n",
    "\n",
    "# Predictions on the validation set\n",
    "predicted_labels = loaded_model.predict(val_sentences)\n",
    "\n",
    "# Step 14: Generate confusion matrix\n",
    "conf_matrix = confusion_matrix(true_labels_str, predicted_labels)\n",
    "print(\"Confusion Matrix:\\n\", conf_matrix)\n",
    "\n",
    "# Plot confusion matrix using seaborn\n",
    "labels = [\"NEGATIVE\", \"POSITIVE\", \"NEUTRAL\", \"MIXED\"]\n",
    "plt.figure(figsize=(8, 6))\n",
    "sns.heatmap(conf_matrix, annot=True, fmt=\"d\", cmap=\"Blues\", xticklabels=labels, yticklabels=labels)\n",
    "plt.ylabel('True Labels')\n",
    "plt.xlabel('Predicted Labels')\n",
    "plt.title('Confusion Matrix')\n",
    "plt.show()\n",
    "\n",
    "# Step 15: Generate classification report for detailed metrics (precision, recall, f1-score)\n",
    "classification_rep = classification_report(true_labels_str, predicted_labels, target_names=labels)\n",
    "print(\"Classification Report:\\n\", classification_rep)\n"
   ]
  },
  {
   "cell_type": "code",
   "execution_count": null,
   "metadata": {},
   "outputs": [],
   "source": [
    "!pip install setfit\n",
    "!pip install torch --index-url https://download.pytorch.org/whl/cu118\n",
    "!pip install datasets\n",
    "\n",
    "import pandas as pd\n",
    "from datasets import Dataset\n",
    "from setfit import SetFitModel, Trainer, TrainingArguments\n",
    "import torch\n",
    "from google.colab import files\n",
    "import shutil\n",
    "\n",
    "# Step 1: Load your dataset from Colab directory\n",
    "df = pd.read_csv(\"/content/Dataset.csv\", encoding='ISO-8859-1')\n",
    "\n",
    "# Step 2: Convert the DataFrame into a Hugging Face Dataset\n",
    "dataset = Dataset.from_pandas(df)\n",
    "\n",
    "# Step 3: Split dataset into train and validation sets (80-20 split as an example)\n",
    "train_test_split = dataset.train_test_split(test_size=0.2)\n",
    "train_dataset = train_test_split[\"train\"]\n",
    "val_dataset = train_test_split[\"test\"]\n",
    "\n",
    "# Step 4: Define label mappings for the custom labels\n",
    "label_mapping = {\n",
    "    \"NEGATIVE\": 0,\n",
    "    \"POSITIVE\": 1,\n",
    "    \"NEUTRAL\": 2,\n",
    "    \"MIXED\": 3\n",
    "}\n",
    "\n",
    "# Step 5: Map labels from text to integer indices\n",
    "train_dataset = train_dataset.map(lambda x: {\"label\": label_mapping[x[\"label\"]]})\n",
    "val_dataset = val_dataset.map(lambda x: {\"label\": label_mapping[x[\"label\"]]})\n",
    "\n",
    "# Step 6: Load a SetFit model from Hugging Face Hub, updating the label list\n",
    "model = SetFitModel.from_pretrained(\n",
    "    \"BAAI/bge-base-en-v1.5\",\n",
    "    # \"BAAI/bge-large-en-v1.5\",\n",
    "    labels=[\"NEGATIVE\", \"POSITIVE\", \"NEUTRAL\", \"MIXED\"]\n",
    ")\n",
    "\n",
    "\n",
    "# Step 7: Train the model\n",
    "args = TrainingArguments(\n",
    "    output_dir = 'checkpoints',               # output saved in checkpoints\n",
    "    batch_size=(16, 2),                       # (16->body,1->head)\n",
    "    max_steps=800,                            # max number of training steps(overrides the num_epochs)\n",
    "    num_epochs=3,                             # the model will train on entire dataset 3 times\n",
    "    logging_steps=10,                         # for storing the lo files\n",
    "    sampling_strategy=\"oversampling\",         # for gettin the sentancepair(similar sentances pair)\n",
    "    # oversampling (draws an even number of positive and negative sentence pairs during training)- used when dataset is imbalanced,\n",
    "    # undersampling  (draws the minimum number of positive/negative pairs so that the minority class determines how many pairs are drawn)- majority class is very dominant\n",
    "    # unique (draws every possible pair combination of sentences, without balancing between positive and negative pairs) -have a small dataset or relatively balanced classes\n",
    "    num_iterations=5,\n",
    "    end_to_end=\"True\",                         # True -> training both head(decoder) and body(encoder)\n",
    "    body_learning_rate=(2e-5, 1e-5),          # learning ratev for the encoder\n",
    "    head_learning_rate=4e-2,                  #1e-2 -> reduced it for more training of head(decoder)\n",
    "    eval_strategy=\"steps\",\n",
    "    eval_steps=20,                            # first step at which evalution will occur\n",
    "    eval_delay= 20,                            # after no of steps the avalution will occur\n",
    "    eval_max_steps=140,\n",
    "    save_strategy=\"steps\",\n",
    "    save_steps=100,                           # Number of updates steps before two checkpoint(should be multiple of \"eval_steps\")\n",
    "    metric_for_best_model=\"eval_embedding_loss\",\n",
    "    load_best_model_at_end=\"True\"                 # load the best model at end if true\n",
    ")\n",
    "# ( \n",
    "# output_dir: str = 'checkpoints'\n",
    "# batch_size: Union[int, Tuple[int, int]] = (16, 2)\n",
    "# num_epochs: Union[int, Tuple[int, int]] = (1, 16)\n",
    "# max_steps: int = -1\n",
    "# sampling_strategy: str = 'oversampling'    # \n",
    "# num_iterations: Optional[int] = None\n",
    "# body_learning_rate: Union[float, Tuple[float, float]] = (2e-05, 1e-05)\n",
    "# head_learning_rate: float = 0.01\n",
    "# loss: Callable = <class 'sentence_transformers.losses.CosineSimilarityLoss.CosineSimilarityLoss'>\n",
    "# distance_metric: Callable = <function BatchHardTripletLossDistanceFunction.cosine_distance at 0x7f677476df30>\n",
    "# margin: float = 0.25\n",
    "# end_to_end: bool = False\n",
    "# use_amp: bool = False\n",
    "# warmup_proportion: float = 0.1\n",
    "# l2_weight: Optional[float] = 0.01\n",
    "# max_length: Optional[int] = None\n",
    "# samples_per_label: int = 2\n",
    "# show_progress_bar: bool = Trueseed: int = 42\n",
    "# report_to: str = 'all'\n",
    "# run_name: Optional[str] = None\n",
    "# logging_dir: Optional[str] = None\n",
    "# logging_strategy: str = 'steps'\n",
    "# logging_first_step: bool = True\n",
    "# logging_steps: int = 50\n",
    "# eval_strategy: str = 'no'\n",
    "# evaluation_strategy: Optional[str] = None\n",
    "# eval_steps: Optional[int] = None\n",
    "# eval_delay: int = 0\n",
    "# eval_max_steps: int = -1\n",
    "# save_strategy: str = 'steps'\n",
    "# save_steps: int = 500\n",
    "# save_total_limit: Optional[int] = 1\n",
    "# load_best_model_at_end: bool = False\n",
    "# metric_for_best_model: Optional[str] = 'embedding_loss'\n",
    "# greater_is_better: bool = False \n",
    "# )\n",
    "\n",
    "# Step 8: Trainer class with correct column mapping\n",
    "trainer = Trainer(\n",
    "    model=model, \n",
    "    args=args,\n",
    "    train_dataset=train_dataset, \n",
    "    eval_dataset=val_dataset,\n",
    "    metric=\"accuracy\",\n",
    "    column_mapping={\"sentence\": \"text\", \"label\": \"label\"}  # Mapping sentence to text\n",
    ")\n",
    "\n",
    "# Step 9: Train and evaluate the model\n",
    "trainer.train()\n",
    "metrics = trainer.evaluate(val_dataset)\n",
    "print(\"Evaluation Metrics:\", metrics)\n",
    "\n",
    "# Step 10: Save the trained model locally within Colab\n",
    "model_save_path = \"/content/saved_setfit_model\"\n",
    "model.save_pretrained(model_save_path)\n",
    "\n",
    "# Step 11: Download the trained model to your local machine\n",
    "# Compress the saved model directory for download\n",
    "shutil.make_archive(\"/content/saved_setfit_model\", 'zip', model_save_path)\n",
    "\n",
    "# Download the zip file\n",
    "files.download(\"/content/saved_setfit_model.zip\")\n",
    "\n",
    "\n",
    "\n",
    "# Step 12: Load the saved model for further use\n",
    "loaded_model = SetFitModel.from_pretrained(model_save_path)\n",
    "\n",
    "# Step 13: Predict with the loaded model\n",
    "sample_sentences = [\n",
    "    \n",
    "\"More locations would be helpful...it is challenging to get to the [Doctor]ronto location... \",\n",
    "\"I deeply appreciate the care that I am receiving at [Clinic]. For the first time in my life I am receiving high quality Diagnostic and Preventative Medical Care and its dramatically improved both my physical\",\n",
    "\"Disappointed in the dermatology/cosmetology consult.  Instead of providing useful feedback it was just a full session of being upsold on procedures that I didnt ask for.  Also the hearing/vision tests \",\n",
    "\"A little more heads up on that schedule and who you will be seeing. \",\n",
    "\"Excellent compassionate personal staff\",\n",
    "\"Appointments were very unorganized at the end of the day and it would have been helpful to been provided with a schedule so it was clear what came next. I was also told the doctor would email me after \"\n",
    "]\n",
    "# NEGATIVE,POSITIVE,NEGATIVE,NEGATIVE,POSITIVE,NEGATIVE\n",
    "\n",
    "# Predictions from loaded model\n",
    "preds = loaded_model.predict(sample_sentences)\n",
    "print(\"Predictions:\", preds)\n",
    "\n",
    "\n",
    "# running on entire data\n",
    "\n",
    "# Step 12: Load the saved model for further use\n",
    "loaded_model = SetFitModel.from_pretrained(model_save_path)\n",
    "\n",
    "# Step 13: Predict with the loaded model for the entire dataset\n",
    "# Add a 'Predicted Label' column based on model predictions\n",
    "dataset_df = df.copy()  # Keep the original dataframe intact\n",
    "\n",
    "# Run predictions on the text column (assuming the column containing text is 'sentence')\n",
    "pred_labels = loaded_model.predict(dataset_df['sentence'].tolist())  # Predictions are already in label format (strings)\n",
    "\n",
    "# Step 14: Add predictions as a new column in the original DataFrame\n",
    "dataset_df['Predicted Label'] = pred_labels\n",
    "dataset_df = dataset_df[dataset_df['label'].notna() & (dataset_df['label'] != \"\")]\n",
    "# Step 15: Save the DataFrame with predictions to a new CSV file\n",
    "output_csv_path = \"/content/predicted_results.csv\"\n",
    "dataset_df.to_csv(output_csv_path, index=False)\n",
    "\n",
    "# Step 16: Download the resulting CSV file\n",
    "files.download(output_csv_path)\n",
    "\n",
    "\n",
    "# Confusion Matrix\n",
    "\n",
    "from sklearn.metrics import confusion_matrix, classification_report\n",
    "import numpy as np\n",
    "import seaborn as sns\n",
    "import matplotlib.pyplot as plt\n",
    "\n",
    "# Step 12: Load the saved model for further use\n",
    "loaded_model = SetFitModel.from_pretrained(model_save_path)\n",
    "\n",
    "# Step 13: Predict on the validation set\n",
    "val_sentences = val_dataset[\"sentence\"]\n",
    "true_labels = val_dataset[\"label\"]\n",
    "\n",
    "# Convert true labels from integers to their original labels for evaluation\n",
    "true_labels_str = [list(label_mapping.keys())[list(label_mapping.values()).index(label)] for label in true_labels]\n",
    "\n",
    "# Predictions on the validation set\n",
    "predicted_labels = loaded_model.predict(val_sentences)\n",
    "\n",
    "# Step 14: Generate confusion matrix\n",
    "conf_matrix = confusion_matrix(true_labels_str, predicted_labels)\n",
    "print(\"Confusion Matrix:\\n\", conf_matrix)\n",
    "\n",
    "# Plot confusion matrix using seaborn\n",
    "labels = [\"NEGATIVE\", \"POSITIVE\", \"NEUTRAL\", \"MIXED\"]\n",
    "plt.figure(figsize=(8, 6))\n",
    "sns.heatmap(conf_matrix, annot=True, fmt=\"d\", cmap=\"Blues\", xticklabels=labels, yticklabels=labels)\n",
    "plt.ylabel('True Labels')\n",
    "plt.xlabel('Predicted Labels')\n",
    "plt.title('Confusion Matrix')\n",
    "plt.show()\n",
    "\n",
    "# Step 15: Generate classification report for detailed metrics (precision, recall, f1-score)\n",
    "classification_rep = classification_report(true_labels_str, predicted_labels, target_names=labels)\n",
    "print(\"Classification Report:\\n\", classification_rep)\n"
   ]
  }
 ],
 "metadata": {
  "kernelspec": {
   "display_name": "test_01",
   "language": "python",
   "name": "python3"
  },
  "language_info": {
   "codemirror_mode": {
    "name": "ipython",
    "version": 3
   },
   "file_extension": ".py",
   "mimetype": "text/x-python",
   "name": "python",
   "nbconvert_exporter": "python",
   "pygments_lexer": "ipython3",
   "version": "3.10.14"
  }
 },
 "nbformat": 4,
 "nbformat_minor": 2
}
